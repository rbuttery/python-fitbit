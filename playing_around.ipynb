{
 "cells": [
  {
   "cell_type": "code",
   "execution_count": 1,
   "metadata": {},
   "outputs": [],
   "source": [
    "from fitbit.api import Fitbit\n",
    "from datetime import datetime, timedelta\n",
    "from dotenv import load_dotenv\n",
    "import os\n",
    "from fitbit.auth import get_local_tokens\n",
    "load_dotenv()\n",
    "\n",
    "client_id = os.getenv('FITBIT_CLIENT_ID')\n",
    "client_secret = os.getenv('FITBIT_CLIENT_SECRET')\n",
    "\n",
    "access_token, refresh_token = get_local_tokens()\n",
    "fitbit_client = Fitbit(client_id, client_secret, access_token=access_token, refresh_token=refresh_token)\n"
   ]
  },
  {
   "cell_type": "code",
   "execution_count": 2,
   "metadata": {},
   "outputs": [],
   "source": [
    "today = datetime.today().strftime('%Y-%m-%d')\n",
    "last_week = (datetime.today() - timedelta(days=7)).strftime('%Y-%m-%d')\n",
    "last_month = (datetime.today() - timedelta(days=30)).strftime('%Y-%m-%d')\n",
    "last_year = (datetime.today() - timedelta(days=365)).strftime('%Y-%m-%d')"
   ]
  },
  {
   "cell_type": "markdown",
   "metadata": {},
   "source": [
    "# Annual Steps"
   ]
  },
  {
   "cell_type": "code",
   "execution_count": 3,
   "metadata": {},
   "outputs": [
    {
     "ename": "TypeError",
     "evalue": "Fitbit.get_activity_time_series_range() got an unexpected keyword argument 'resource'",
     "output_type": "error",
     "traceback": [
      "\u001b[1;31m---------------------------------------------------------------------------\u001b[0m",
      "\u001b[1;31mTypeError\u001b[0m                                 Traceback (most recent call last)",
      "Cell \u001b[1;32mIn[3], line 3\u001b[0m\n\u001b[0;32m      1\u001b[0m \u001b[38;5;28;01mimport\u001b[39;00m \u001b[38;5;21;01mpandas\u001b[39;00m \u001b[38;5;28;01mas\u001b[39;00m \u001b[38;5;21;01mpd\u001b[39;00m\n\u001b[1;32m----> 3\u001b[0m df \u001b[38;5;241m=\u001b[39m pd\u001b[38;5;241m.\u001b[39mDataFrame(\u001b[43mfitbit_client\u001b[49m\u001b[38;5;241;43m.\u001b[39;49m\u001b[43mget_activity_time_series_range\u001b[49m\u001b[43m(\u001b[49m\n\u001b[0;32m      4\u001b[0m \u001b[43m    \u001b[49m\u001b[43mresource\u001b[49m\u001b[38;5;241;43m=\u001b[39;49m\u001b[38;5;124;43m'\u001b[39;49m\u001b[38;5;124;43msteps\u001b[39;49m\u001b[38;5;124;43m'\u001b[39;49m\u001b[43m,\u001b[49m\u001b[43m \u001b[49m\n\u001b[0;32m      5\u001b[0m \u001b[43m    \u001b[49m\u001b[43mstart_date\u001b[49m\u001b[38;5;241;43m=\u001b[39;49m\u001b[43mtoday\u001b[49m\u001b[43m,\u001b[49m\n\u001b[0;32m      6\u001b[0m \u001b[43m    \u001b[49m\u001b[43mend_date\u001b[49m\u001b[38;5;241;43m=\u001b[39;49m\u001b[43mlast_year\u001b[49m\n\u001b[0;32m      7\u001b[0m \u001b[43m)\u001b[49m[\u001b[38;5;124m'\u001b[39m\u001b[38;5;124mactivities-steps\u001b[39m\u001b[38;5;124m'\u001b[39m])\n",
      "\u001b[1;31mTypeError\u001b[0m: Fitbit.get_activity_time_series_range() got an unexpected keyword argument 'resource'"
     ]
    }
   ],
   "source": [
    "import pandas as pd\n",
    "\n",
    "df = pd.DataFrame(fitbit_client.get_activity_time_series_range(\n",
    "    resource='steps', \n",
    "    start_date=today,\n",
    "    end_date=last_year\n",
    ")['activities-steps'])"
   ]
  },
  {
   "cell_type": "code",
   "execution_count": null,
   "metadata": {},
   "outputs": [],
   "source": [
    "df['value'] = df['value'].astype(int)\n",
    "df[df['value'] > 0]\n"
   ]
  },
  {
   "cell_type": "markdown",
   "metadata": {},
   "source": [
    "# Personal Best Stats"
   ]
  },
  {
   "cell_type": "code",
   "execution_count": null,
   "metadata": {},
   "outputs": [],
   "source": [
    "activity_stats = fitbit_client.activity_stats()\n",
    "steps_best_day = activity_stats['best']['total']['steps']['value']\n",
    "steps_best_day_date = activity_stats['best']['total']['steps']['date']\n",
    "distance_lifetime = activity_stats['best']['total']['distance']['value']\n",
    "\n",
    "print(f\"Highest Step Count: {steps_best_day}\")\n",
    "print(f\"Date Achieved: {steps_best_day_date}\")\n",
    "print(f\"Total distance: {round(distance_lifetime, 2)} KM\")"
   ]
  },
  {
   "cell_type": "markdown",
   "metadata": {},
   "source": [
    "# Personal Lifetime Stats"
   ]
  },
  {
   "cell_type": "code",
   "execution_count": null,
   "metadata": {},
   "outputs": [],
   "source": [
    "lifetime_distance = activity_stats['lifetime']['total']['distance']\n",
    "lifetime_steps = activity_stats['lifetime']['total']['steps']\n",
    "\n",
    "print(f\"Total distance: {round(lifetime_distance, 2)} KM\")\n",
    "print(f\"Total steps: {lifetime_steps}\")"
   ]
  },
  {
   "cell_type": "markdown",
   "metadata": {},
   "source": [
    "# User Profile"
   ]
  },
  {
   "cell_type": "code",
   "execution_count": 4,
   "metadata": {},
   "outputs": [
    {
     "ename": "NameError",
     "evalue": "name 'exceptions' is not defined",
     "output_type": "error",
     "traceback": [
      "\u001b[1;31m---------------------------------------------------------------------------\u001b[0m",
      "\u001b[1;31mNameError\u001b[0m                                 Traceback (most recent call last)",
      "Cell \u001b[1;32mIn[4], line 1\u001b[0m\n\u001b[1;32m----> 1\u001b[0m user_profile \u001b[38;5;241m=\u001b[39m \u001b[43mfitbit_client\u001b[49m\u001b[38;5;241;43m.\u001b[39;49m\u001b[43mget_user_profile\u001b[49m\u001b[43m(\u001b[49m\u001b[43m)\u001b[49m[\u001b[38;5;124m'\u001b[39m\u001b[38;5;124muser\u001b[39m\u001b[38;5;124m'\u001b[39m]\n",
      "File \u001b[1;32mc:\\Projects\\python-fitbit\\fitbit\\api.py:234\u001b[0m, in \u001b[0;36mFitbit.get_user_profile\u001b[1;34m(self, user_id)\u001b[0m\n\u001b[0;32m    222\u001b[0m \u001b[38;5;250m\u001b[39m\u001b[38;5;124;03m\"\"\"\u001b[39;00m\n\u001b[0;32m    223\u001b[0m \u001b[38;5;124;03mGet a user profile. You can get other user's profile information\u001b[39;00m\n\u001b[0;32m    224\u001b[0m \u001b[38;5;124;03mby passing user_id, or you can get the current user's by not passing\u001b[39;00m\n\u001b[1;32m   (...)\u001b[0m\n\u001b[0;32m    231\u001b[0m \u001b[38;5;124;03mhttps://dev.fitbit.com/docs/user/\u001b[39;00m\n\u001b[0;32m    232\u001b[0m \u001b[38;5;124;03m\"\"\"\u001b[39;00m\n\u001b[0;32m    233\u001b[0m url \u001b[38;5;241m=\u001b[39m \u001b[38;5;124m\"\u001b[39m\u001b[38;5;132;01m{0}\u001b[39;00m\u001b[38;5;124m/\u001b[39m\u001b[38;5;132;01m{1}\u001b[39;00m\u001b[38;5;124m/user/\u001b[39m\u001b[38;5;132;01m{2}\u001b[39;00m\u001b[38;5;124m/profile.json\u001b[39m\u001b[38;5;124m\"\u001b[39m\u001b[38;5;241m.\u001b[39mformat(\u001b[38;5;241m*\u001b[39m\u001b[38;5;28mself\u001b[39m\u001b[38;5;241m.\u001b[39m_get_common_args(user_id))\n\u001b[1;32m--> 234\u001b[0m \u001b[38;5;28;01mreturn\u001b[39;00m \u001b[38;5;28;43mself\u001b[39;49m\u001b[38;5;241;43m.\u001b[39;49m\u001b[43mmake_request\u001b[49m\u001b[43m(\u001b[49m\u001b[43murl\u001b[49m\u001b[43m)\u001b[49m\n",
      "File \u001b[1;32mc:\\Projects\\python-fitbit\\fitbit\\api.py:203\u001b[0m, in \u001b[0;36mFitbit.make_request\u001b[1;34m(self, *args, **kwargs)\u001b[0m\n\u001b[0;32m    200\u001b[0m kwargs[\u001b[38;5;124m'\u001b[39m\u001b[38;5;124mheaders\u001b[39m\u001b[38;5;124m'\u001b[39m] \u001b[38;5;241m=\u001b[39m headers\n\u001b[0;32m    202\u001b[0m method \u001b[38;5;241m=\u001b[39m kwargs\u001b[38;5;241m.\u001b[39mget(\u001b[38;5;124m'\u001b[39m\u001b[38;5;124mmethod\u001b[39m\u001b[38;5;124m'\u001b[39m, \u001b[38;5;124m'\u001b[39m\u001b[38;5;124mPOST\u001b[39m\u001b[38;5;124m'\u001b[39m \u001b[38;5;28;01mif\u001b[39;00m \u001b[38;5;124m'\u001b[39m\u001b[38;5;124mdata\u001b[39m\u001b[38;5;124m'\u001b[39m \u001b[38;5;129;01min\u001b[39;00m kwargs \u001b[38;5;28;01melse\u001b[39;00m \u001b[38;5;124m'\u001b[39m\u001b[38;5;124mGET\u001b[39m\u001b[38;5;124m'\u001b[39m)\n\u001b[1;32m--> 203\u001b[0m response \u001b[38;5;241m=\u001b[39m \u001b[38;5;28;43mself\u001b[39;49m\u001b[38;5;241;43m.\u001b[39;49m\u001b[43mclient\u001b[49m\u001b[38;5;241;43m.\u001b[39;49m\u001b[43mmake_request\u001b[49m\u001b[43m(\u001b[49m\u001b[38;5;241;43m*\u001b[39;49m\u001b[43margs\u001b[49m\u001b[43m,\u001b[49m\u001b[43m \u001b[49m\u001b[38;5;241;43m*\u001b[39;49m\u001b[38;5;241;43m*\u001b[39;49m\u001b[43mkwargs\u001b[49m\u001b[43m)\u001b[49m\n\u001b[0;32m    205\u001b[0m \u001b[38;5;28;01mif\u001b[39;00m response\u001b[38;5;241m.\u001b[39mstatus_code \u001b[38;5;241m==\u001b[39m \u001b[38;5;241m202\u001b[39m:\n\u001b[0;32m    206\u001b[0m     \u001b[38;5;28;01mreturn\u001b[39;00m \u001b[38;5;28;01mTrue\u001b[39;00m\n",
      "File \u001b[1;32mc:\\Projects\\python-fitbit\\fitbit\\auth.py:102\u001b[0m, in \u001b[0;36mFitbitOauth2Client.make_request\u001b[1;34m(self, url, data, method, **kwargs)\u001b[0m\n\u001b[0;32m     92\u001b[0m method \u001b[38;5;241m=\u001b[39m method \u001b[38;5;129;01mor\u001b[39;00m (\u001b[38;5;124m'\u001b[39m\u001b[38;5;124mPOST\u001b[39m\u001b[38;5;124m'\u001b[39m \u001b[38;5;28;01mif\u001b[39;00m data \u001b[38;5;28;01melse\u001b[39;00m \u001b[38;5;124m'\u001b[39m\u001b[38;5;124mGET\u001b[39m\u001b[38;5;124m'\u001b[39m)\n\u001b[0;32m     93\u001b[0m response \u001b[38;5;241m=\u001b[39m \u001b[38;5;28mself\u001b[39m\u001b[38;5;241m.\u001b[39m_request(\n\u001b[0;32m     94\u001b[0m     method,\n\u001b[0;32m     95\u001b[0m     url,\n\u001b[1;32m   (...)\u001b[0m\n\u001b[0;32m     99\u001b[0m     \u001b[38;5;241m*\u001b[39m\u001b[38;5;241m*\u001b[39mkwargs\n\u001b[0;32m    100\u001b[0m )\n\u001b[1;32m--> 102\u001b[0m \u001b[43mexceptions\u001b[49m\u001b[38;5;241m.\u001b[39mdetect_and_raise_error(response)\n\u001b[0;32m    104\u001b[0m \u001b[38;5;28;01mreturn\u001b[39;00m response\n",
      "\u001b[1;31mNameError\u001b[0m: name 'exceptions' is not defined"
     ]
    }
   ],
   "source": [
    "user_profile = fitbit_client.get_user_profile()['user']"
   ]
  },
  {
   "cell_type": "code",
   "execution_count": null,
   "metadata": {},
   "outputs": [],
   "source": [
    "badges_df = pd.DataFrame(user_profile['topBadges'])\n",
    "badges_df"
   ]
  },
  {
   "cell_type": "code",
   "execution_count": null,
   "metadata": {},
   "outputs": [],
   "source": [
    "# not user_profile minus topBadges\n",
    "user_profile_minus_badges = {k: v for k, v in user_profile.items() if k != 'topBadges'}\n",
    "user_profile_df = pd.DataFrame(user_profile_minus_badges)\n",
    "user_profile_df"
   ]
  },
  {
   "cell_type": "markdown",
   "metadata": {},
   "source": [
    "# Sleep"
   ]
  },
  {
   "cell_type": "code",
   "execution_count": null,
   "metadata": {},
   "outputs": [],
   "source": [
    "sleep_data = fitbit_client.get_sleep(date=datetime.today())\n",
    "\n",
    "# Sleep Data\n",
    "sleep_df = pd.DataFrame(sleep_data['sleep'])\n",
    "\n",
    "# Sleep Stages Summary\n",
    "sleep_stages_summary = sleep_data['summary']['stages']\n",
    "deep_sleep_duration = sleep_stages_summary['deep']\n",
    "light_sleep_duration = sleep_stages_summary['light']\n",
    "rem_sleep_duration = sleep_stages_summary['rem']\n",
    "wake_sleep_duration = sleep_stages_summary['wake']\n",
    "\n",
    "# append to sleep_df\n",
    "sleep_df['deep_sleep_duration'] = deep_sleep_duration\n",
    "sleep_df['light_sleep_duration'] = light_sleep_duration\n",
    "sleep_df['rem_sleep_duration'] = rem_sleep_duration\n",
    "sleep_df['wake_sleep_duration'] = wake_sleep_duration\n",
    "\n",
    "sleep_minute_df = pd.DataFrame(sleep_df['minuteData'][0])\n",
    "\n",
    "# try to remove minuteData from sleep_df    \n",
    "try:    \n",
    "    sleep_df = sleep_df.drop(columns=['minuteData'])\n",
    "except KeyError:\n",
    "    print(\"KeyError: minuteData not found\")\n",
    "    \n",
    "sleep_df.T"
   ]
  },
  {
   "cell_type": "code",
   "execution_count": null,
   "metadata": {},
   "outputs": [],
   "source": [
    "# group by value and count\n",
    "sleep_minute_df"
   ]
  },
  {
   "cell_type": "markdown",
   "metadata": {},
   "source": [
    "# Recent Activities"
   ]
  },
  {
   "cell_type": "code",
   "execution_count": 74,
   "metadata": {},
   "outputs": [],
   "source": [
    "\"\"\"\n",
    "# Resource Options\n",
    "All Activity\tTracker Only Activity\n",
    "----------------------------------\n",
    "activityCalories\ttracker/activityCalories\n",
    "calories\ttracker/calories\n",
    "caloriesBMR\tN/A\n",
    "distance\ttracker/distance\n",
    "elevation\ttracker/elevation\n",
    "floors\ttracker/floors\n",
    "minutesSedentary\ttracker/minutesSedentary\n",
    "minutesLightlyActive\ttracker/minutesLightlyActive\n",
    "minutesFairlyActive\ttracker/minutesFairlyActive\n",
    "minutesVeryActive\ttracker/minutesVeryActive\n",
    "steps\ttracker/steps\n",
    "swimming-strokes\tN/A\n",
    "\"\"\"\n",
    "\n",
    "period = '1d' # 1d | 7d | 30d | 1w | 1m | 3m | 6m | 1y\n",
    "activity_calories = fitbit_client.get_activity_time_series(resource='activityCalories', date=today, period=period)\n",
    "calories = fitbit_client.get_activity_time_series(resource='calories', date=today, period=period)\n",
    "distance = fitbit_client.get_activity_time_series(resource='distance', date=today, period=period)\n",
    "elevation = fitbit_client.get_activity_time_series(resource='elevation', date=today, period=period)\n",
    "floors = fitbit_client.get_activity_time_series(resource='floors', date=today, period=period)\n",
    "minutes_sedentary = fitbit_client.get_activity_time_series(resource='minutesSedentary', date=today, period=period)\n",
    "minutes_lightly_active = fitbit_client.get_activity_time_series(resource='minutesLightlyActive', date=today, period=period)\n",
    "minutes_fairly_active = fitbit_client.get_activity_time_series(resource='minutesFairlyActive', date=today, period=period)\n",
    "minutes_very_active = fitbit_client.get_activity_time_series(resource='minutesVeryActive', date=today, period=period)\n",
    "steps = fitbit_client.get_activity_time_series(resource='steps', date=today, period=period)\n",
    "swimming_strokes = fitbit_client.get_activity_time_series(resource='swimming-strokes', date=today, period=period)\n"
   ]
  },
  {
   "cell_type": "code",
   "execution_count": null,
   "metadata": {},
   "outputs": [],
   "source": [
    "dfs = [activity_calories, calories, distance, elevation, floors, minutes_sedentary, minutes_lightly_active, minutes_fairly_active, minutes_very_active, steps, swimming_strokes]\n",
    "\n",
    "combined_df = []\n",
    "for row in dfs:\n",
    "    name = list(row.keys())[0]\n",
    "    new_row = {\n",
    "        'measure': name,\n",
    "        'value': row[name][0]['value'],\n",
    "        'date': row[name][0]['dateTime']\n",
    "    }\n",
    "    combined_df.append(new_row)\n",
    "    \n",
    "combined_df = pd.DataFrame(combined_df)\n",
    "combined_df"
   ]
  },
  {
   "cell_type": "markdown",
   "metadata": {},
   "source": [
    "# Weight\n"
   ]
  },
  {
   "cell_type": "code",
   "execution_count": null,
   "metadata": {},
   "outputs": [],
   "source": [
    "weight_data = fitbit_client.get_weight_log(date=today)\n",
    "weight_data"
   ]
  },
  {
   "cell_type": "code",
   "execution_count": null,
   "metadata": {},
   "outputs": [],
   "source": [
    "import requests\n",
    "url = 'https://dev.fitbit.com/build/reference/web-api/explore/fitbit-web-api-swagger.json'\n",
    "json_schema = requests.get(url=url).json()\n",
    "json_schema.keys()\n"
   ]
  },
  {
   "cell_type": "code",
   "execution_count": null,
   "metadata": {},
   "outputs": [],
   "source": [
    "len(json_schema['paths'])\n"
   ]
  },
  {
   "cell_type": "code",
   "execution_count": null,
   "metadata": {},
   "outputs": [],
   "source": [
    "[json_schema['paths'][x] for x in json_schema['paths'].keys()]\n"
   ]
  },
  {
   "cell_type": "code",
   "execution_count": null,
   "metadata": {},
   "outputs": [],
   "source": []
  }
 ],
 "metadata": {
  "kernelspec": {
   "display_name": "env",
   "language": "python",
   "name": "python3"
  },
  "language_info": {
   "codemirror_mode": {
    "name": "ipython",
    "version": 3
   },
   "file_extension": ".py",
   "mimetype": "text/x-python",
   "name": "python",
   "nbconvert_exporter": "python",
   "pygments_lexer": "ipython3",
   "version": "3.12.4"
  }
 },
 "nbformat": 4,
 "nbformat_minor": 2
}
