{
 "cells": [
  {
   "cell_type": "code",
   "execution_count": 1,
   "metadata": {},
   "outputs": [],
   "source": [
    "from fitbit.auth import get_tokens, get_fitbit_client\n",
    "from datetime import datetime, timedelta\n",
    "# %pip install pandas\n",
    "import pandas as pd\n",
    "import json\n",
    "\n",
    "access_token, refresh_token = get_tokens()\n",
    "fitbit_client = get_fitbit_client(access_token, refresh_token)"
   ]
  },
  {
   "cell_type": "code",
   "execution_count": 2,
   "metadata": {},
   "outputs": [],
   "source": [
    "today = datetime.today().strftime('%Y-%m-%d')\n",
    "last_week = (datetime.today() - timedelta(days=7)).strftime('%Y-%m-%d')\n",
    "last_month = (datetime.today() - timedelta(days=30)).strftime('%Y-%m-%d')\n",
    "last_year = (datetime.today() - timedelta(days=365)).strftime('%Y-%m-%d')"
   ]
  },
  {
   "cell_type": "markdown",
   "metadata": {},
   "source": [
    "# Annual Steps"
   ]
  },
  {
   "cell_type": "code",
   "execution_count": null,
   "metadata": {},
   "outputs": [],
   "source": [
    "import pandas as pd\n",
    "\n",
    "df = pd.DataFrame(fitbit_client.get_activity_time_series_range(\n",
    "    resource='steps', \n",
    "    start_date=today,\n",
    "    end_date=last_year\n",
    ")['activities-steps'])"
   ]
  },
  {
   "cell_type": "code",
   "execution_count": null,
   "metadata": {},
   "outputs": [],
   "source": [
    "df['value'] = df['value'].astype(int)\n",
    "df[df['value'] > 0]\n"
   ]
  },
  {
   "cell_type": "markdown",
   "metadata": {},
   "source": [
    "# Personal Best Stats"
   ]
  },
  {
   "cell_type": "code",
   "execution_count": null,
   "metadata": {},
   "outputs": [],
   "source": [
    "activity_stats = fitbit_client.activity_stats()\n",
    "steps_best_day = activity_stats['best']['total']['steps']['value']\n",
    "steps_best_day_date = activity_stats['best']['total']['steps']['date']\n",
    "distance_lifetime = activity_stats['best']['total']['distance']['value']\n",
    "\n",
    "print(f\"Highest Step Count: {steps_best_day}\")\n",
    "print(f\"Date Achieved: {steps_best_day_date}\")\n",
    "print(f\"Total distance: {round(distance_lifetime, 2)} KM\")"
   ]
  },
  {
   "cell_type": "markdown",
   "metadata": {},
   "source": [
    "# Personal Lifetime Stats"
   ]
  },
  {
   "cell_type": "code",
   "execution_count": null,
   "metadata": {},
   "outputs": [],
   "source": [
    "lifetime_distance = activity_stats['lifetime']['total']['distance']\n",
    "lifetime_steps = activity_stats['lifetime']['total']['steps']\n",
    "\n",
    "print(f\"Total distance: {round(lifetime_distance, 2)} KM\")\n",
    "print(f\"Total steps: {lifetime_steps}\")"
   ]
  },
  {
   "cell_type": "markdown",
   "metadata": {},
   "source": [
    "# User Profile"
   ]
  },
  {
   "cell_type": "code",
   "execution_count": 25,
   "metadata": {},
   "outputs": [],
   "source": [
    "user_profile = fitbit_client.get_user_profile()['user']"
   ]
  },
  {
   "cell_type": "code",
   "execution_count": null,
   "metadata": {},
   "outputs": [],
   "source": [
    "badges_df = pd.DataFrame(user_profile['topBadges'])\n",
    "badges_df"
   ]
  },
  {
   "cell_type": "code",
   "execution_count": null,
   "metadata": {},
   "outputs": [],
   "source": [
    "# not user_profile minus topBadges\n",
    "user_profile_minus_badges = {k: v for k, v in user_profile.items() if k != 'topBadges'}\n",
    "user_profile_df = pd.DataFrame(user_profile_minus_badges)\n",
    "user_profile_df"
   ]
  },
  {
   "cell_type": "markdown",
   "metadata": {},
   "source": [
    "# Sleep"
   ]
  },
  {
   "cell_type": "code",
   "execution_count": null,
   "metadata": {},
   "outputs": [],
   "source": [
    "sleep_data = fitbit_client.get_sleep(date=datetime.today())\n",
    "\n",
    "# Sleep Data\n",
    "sleep_df = pd.DataFrame(sleep_data['sleep'])\n",
    "\n",
    "# Sleep Stages Summary\n",
    "sleep_stages_summary = sleep_data['summary']['stages']\n",
    "deep_sleep_duration = sleep_stages_summary['deep']\n",
    "light_sleep_duration = sleep_stages_summary['light']\n",
    "rem_sleep_duration = sleep_stages_summary['rem']\n",
    "wake_sleep_duration = sleep_stages_summary['wake']\n",
    "\n",
    "# append to sleep_df\n",
    "sleep_df['deep_sleep_duration'] = deep_sleep_duration\n",
    "sleep_df['light_sleep_duration'] = light_sleep_duration\n",
    "sleep_df['rem_sleep_duration'] = rem_sleep_duration\n",
    "sleep_df['wake_sleep_duration'] = wake_sleep_duration\n",
    "\n",
    "sleep_minute_df = pd.DataFrame(sleep_df['minuteData'][0])\n",
    "\n",
    "# try to remove minuteData from sleep_df    \n",
    "try:    \n",
    "    sleep_df = sleep_df.drop(columns=['minuteData'])\n",
    "except KeyError:\n",
    "    print(\"KeyError: minuteData not found\")\n",
    "    \n",
    "sleep_df.T"
   ]
  },
  {
   "cell_type": "code",
   "execution_count": null,
   "metadata": {},
   "outputs": [],
   "source": [
    "# group by value and count\n",
    "sleep_minute_df"
   ]
  },
  {
   "cell_type": "markdown",
   "metadata": {},
   "source": [
    "# Recent Activities"
   ]
  },
  {
   "cell_type": "code",
   "execution_count": 68,
   "metadata": {},
   "outputs": [],
   "source": [
    "\"\"\"\n",
    "# Resource Options\n",
    "All Activity\tTracker Only Activity\n",
    "----------------------------------\n",
    "activityCalories\ttracker/activityCalories\n",
    "calories\ttracker/calories\n",
    "caloriesBMR\tN/A\n",
    "distance\ttracker/distance\n",
    "elevation\ttracker/elevation\n",
    "floors\ttracker/floors\n",
    "minutesSedentary\ttracker/minutesSedentary\n",
    "minutesLightlyActive\ttracker/minutesLightlyActive\n",
    "minutesFairlyActive\ttracker/minutesFairlyActive\n",
    "minutesVeryActive\ttracker/minutesVeryActive\n",
    "steps\ttracker/steps\n",
    "swimming-strokes\tN/A\n",
    "\"\"\"\n",
    "\n",
    "period = '7d' # 1d | 7d | 30d | 1w | 1m | 3m | 6m | 1y\n",
    "activity_calories = fitbit_client.get_activity_time_series(resource='activityCalories', date=today, period=period)\n",
    "calories = fitbit_client.get_activity_time_series(resource='calories', date=today, period=period)\n",
    "distance = fitbit_client.get_activity_time_series(resource='distance', date=today, period=period)\n",
    "elevation = fitbit_client.get_activity_time_series(resource='elevation', date=today, period=period)\n",
    "floors = fitbit_client.get_activity_time_series(resource='floors', date=today, period=period)\n",
    "minutes_sedentary = fitbit_client.get_activity_time_series(resource='minutesSedentary', date=today, period=period)\n",
    "minutes_lightly_active = fitbit_client.get_activity_time_series(resource='minutesLightlyActive', date=today, period=period)\n",
    "minutes_fairly_active = fitbit_client.get_activity_time_series(resource='minutesFairlyActive', date=today, period=period)\n",
    "minutes_very_active = fitbit_client.get_activity_time_series(resource='minutesVeryActive', date=today, period=period)\n",
    "steps = fitbit_client.get_activity_time_series(resource='steps', date=today, period=period)\n",
    "swimming_strokes = fitbit_client.get_activity_time_series(resource='swimming-strokes', date=today, period=period)\n"
   ]
  },
  {
   "cell_type": "code",
   "execution_count": 70,
   "metadata": {},
   "outputs": [
    {
     "data": {
      "text/html": [
       "<div>\n",
       "<style scoped>\n",
       "    .dataframe tbody tr th:only-of-type {\n",
       "        vertical-align: middle;\n",
       "    }\n",
       "\n",
       "    .dataframe tbody tr th {\n",
       "        vertical-align: top;\n",
       "    }\n",
       "\n",
       "    .dataframe thead th {\n",
       "        text-align: right;\n",
       "    }\n",
       "</style>\n",
       "<table border=\"1\" class=\"dataframe\">\n",
       "  <thead>\n",
       "    <tr style=\"text-align: right;\">\n",
       "      <th></th>\n",
       "      <th>measure</th>\n",
       "      <th>value</th>\n",
       "      <th>date</th>\n",
       "    </tr>\n",
       "  </thead>\n",
       "  <tbody>\n",
       "    <tr>\n",
       "      <th>0</th>\n",
       "      <td>activities-activityCalories</td>\n",
       "      <td>1289</td>\n",
       "      <td>2024-10-23</td>\n",
       "    </tr>\n",
       "    <tr>\n",
       "      <th>1</th>\n",
       "      <td>activities-calories</td>\n",
       "      <td>2945</td>\n",
       "      <td>2024-10-23</td>\n",
       "    </tr>\n",
       "    <tr>\n",
       "      <th>2</th>\n",
       "      <td>activities-distance</td>\n",
       "      <td>2.969357701</td>\n",
       "      <td>2024-10-23</td>\n",
       "    </tr>\n",
       "    <tr>\n",
       "      <th>3</th>\n",
       "      <td>activities-elevation</td>\n",
       "      <td>50</td>\n",
       "      <td>2024-10-23</td>\n",
       "    </tr>\n",
       "    <tr>\n",
       "      <th>4</th>\n",
       "      <td>activities-floors</td>\n",
       "      <td>5</td>\n",
       "      <td>2024-10-23</td>\n",
       "    </tr>\n",
       "    <tr>\n",
       "      <th>5</th>\n",
       "      <td>activities-minutesSedentary</td>\n",
       "      <td>1189</td>\n",
       "      <td>2024-10-23</td>\n",
       "    </tr>\n",
       "    <tr>\n",
       "      <th>6</th>\n",
       "      <td>activities-minutesLightlyActive</td>\n",
       "      <td>187</td>\n",
       "      <td>2024-10-23</td>\n",
       "    </tr>\n",
       "    <tr>\n",
       "      <th>7</th>\n",
       "      <td>activities-minutesFairlyActive</td>\n",
       "      <td>42</td>\n",
       "      <td>2024-10-23</td>\n",
       "    </tr>\n",
       "    <tr>\n",
       "      <th>8</th>\n",
       "      <td>activities-minutesVeryActive</td>\n",
       "      <td>22</td>\n",
       "      <td>2024-10-23</td>\n",
       "    </tr>\n",
       "    <tr>\n",
       "      <th>9</th>\n",
       "      <td>activities-steps</td>\n",
       "      <td>6216</td>\n",
       "      <td>2024-10-23</td>\n",
       "    </tr>\n",
       "    <tr>\n",
       "      <th>10</th>\n",
       "      <td>activities-swimming-strokes</td>\n",
       "      <td>153</td>\n",
       "      <td>2024-10-23</td>\n",
       "    </tr>\n",
       "  </tbody>\n",
       "</table>\n",
       "</div>"
      ],
      "text/plain": [
       "                            measure        value        date\n",
       "0       activities-activityCalories         1289  2024-10-23\n",
       "1               activities-calories         2945  2024-10-23\n",
       "2               activities-distance  2.969357701  2024-10-23\n",
       "3              activities-elevation           50  2024-10-23\n",
       "4                 activities-floors            5  2024-10-23\n",
       "5       activities-minutesSedentary         1189  2024-10-23\n",
       "6   activities-minutesLightlyActive          187  2024-10-23\n",
       "7    activities-minutesFairlyActive           42  2024-10-23\n",
       "8      activities-minutesVeryActive           22  2024-10-23\n",
       "9                  activities-steps         6216  2024-10-23\n",
       "10      activities-swimming-strokes          153  2024-10-23"
      ]
     },
     "execution_count": 70,
     "metadata": {},
     "output_type": "execute_result"
    }
   ],
   "source": [
    "dfs = [activity_calories, calories, distance, elevation, floors, minutes_sedentary, minutes_lightly_active, minutes_fairly_active, minutes_very_active, steps, swimming_strokes]\n",
    "\n",
    "combined_df = []\n",
    "for row in dfs:\n",
    "    name = list(row.keys())[0]\n",
    "#     new_row = {\n",
    "#         'measure': name,\n",
    "#         'value': row[name][0]['value'],\n",
    "#         'date': row[name][0]['dateTime']\n",
    "#     }\n",
    "#     combined_df.append(new_row)\n",
    "    \n",
    "# combined_df = pd.DataFrame(combined_df)\n",
    "# combined_df"
   ]
  }
 ],
 "metadata": {
  "kernelspec": {
   "display_name": "env",
   "language": "python",
   "name": "python3"
  },
  "language_info": {
   "codemirror_mode": {
    "name": "ipython",
    "version": 3
   },
   "file_extension": ".py",
   "mimetype": "text/x-python",
   "name": "python",
   "nbconvert_exporter": "python",
   "pygments_lexer": "ipython3",
   "version": "3.12.4"
  }
 },
 "nbformat": 4,
 "nbformat_minor": 2
}
